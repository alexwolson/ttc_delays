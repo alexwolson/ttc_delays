{
 "cells": [
  {
   "cell_type": "code",
   "execution_count": 1,
   "id": "6119f1c1-0ae6-4374-a6f1-1cc982c487af",
   "metadata": {},
   "outputs": [],
   "source": [
    "import pandas as pd\n",
    "import spacy\n",
    "from tqdm import tqdm"
   ]
  },
  {
   "cell_type": "code",
   "execution_count": 2,
   "id": "e0f2a863-1c11-462f-bc68-a5e2ae7e0a27",
   "metadata": {},
   "outputs": [],
   "source": [
    "df = pd.read_pickle('bus_delays.pickle')\n",
    "df = df[~df.Location.isna()].reset_index(drop=True)"
   ]
  },
  {
   "cell_type": "code",
   "execution_count": 3,
   "id": "4fe7d31b-8513-4d61-af6a-cfaa956effcd",
   "metadata": {},
   "outputs": [],
   "source": [
    "nlp = spacy.load('en_core_web_lg')"
   ]
  },
  {
   "cell_type": "code",
   "execution_count": 4,
   "id": "35ac34a3-ef6d-41fc-a07c-13dc8847d763",
   "metadata": {},
   "outputs": [
    {
     "name": "stderr",
     "output_type": "stream",
     "text": [
      "100%|██████████| 54845/54845 [00:15<00:00, 3494.62it/s]\n"
     ]
    }
   ],
   "source": [
    "nlp_values = []\n",
    "for n in tqdm(nlp.pipe(df.Location.values),total=len(df)):\n",
    "    nlp_values.append(n)"
   ]
  },
  {
   "cell_type": "code",
   "execution_count": 5,
   "id": "b8dfb51e-3eb2-4680-a76f-20c6f486bc4f",
   "metadata": {},
   "outputs": [
    {
     "name": "stderr",
     "output_type": "stream",
     "text": [
      "  0%|          | 0/54845 [00:00<?, ?it/s]<ipython-input-5-c2e4022aa60c>:8: UserWarning: [W008] Evaluating Doc.similarity based on empty vectors.\n",
      "  sim = a.similarity(b)\n",
      "  1%|          | 656/54845 [02:22<3:15:39,  4.62it/s]\n"
     ]
    },
    {
     "ename": "KeyboardInterrupt",
     "evalue": "",
     "output_type": "error",
     "traceback": [
      "\u001b[0;31m---------------------------------------------------------------------------\u001b[0m",
      "\u001b[0;31mKeyboardInterrupt\u001b[0m                         Traceback (most recent call last)",
      "\u001b[0;32m<ipython-input-5-c2e4022aa60c>\u001b[0m in \u001b[0;36m<module>\u001b[0;34m\u001b[0m\n\u001b[1;32m      6\u001b[0m         \u001b[0;32mif\u001b[0m \u001b[0ma\u001b[0m\u001b[0;34m==\u001b[0m\u001b[0mb\u001b[0m\u001b[0;34m:\u001b[0m\u001b[0;34m\u001b[0m\u001b[0;34m\u001b[0m\u001b[0m\n\u001b[1;32m      7\u001b[0m             \u001b[0;32mcontinue\u001b[0m\u001b[0;34m\u001b[0m\u001b[0;34m\u001b[0m\u001b[0m\n\u001b[0;32m----> 8\u001b[0;31m         \u001b[0msim\u001b[0m \u001b[0;34m=\u001b[0m \u001b[0ma\u001b[0m\u001b[0;34m.\u001b[0m\u001b[0msimilarity\u001b[0m\u001b[0;34m(\u001b[0m\u001b[0mb\u001b[0m\u001b[0;34m)\u001b[0m\u001b[0;34m\u001b[0m\u001b[0;34m\u001b[0m\u001b[0m\n\u001b[0m\u001b[1;32m      9\u001b[0m         \u001b[0;32mif\u001b[0m \u001b[0msim\u001b[0m \u001b[0;34m>\u001b[0m \u001b[0mmaximum\u001b[0m\u001b[0;34m:\u001b[0m\u001b[0;34m\u001b[0m\u001b[0;34m\u001b[0m\u001b[0m\n\u001b[1;32m     10\u001b[0m             \u001b[0mcurrent\u001b[0m \u001b[0;34m=\u001b[0m \u001b[0mi\u001b[0m\u001b[0;34m\u001b[0m\u001b[0;34m\u001b[0m\u001b[0m\n",
      "\u001b[0;31mKeyboardInterrupt\u001b[0m: "
     ]
    }
   ],
   "source": [
    "nlp_pairs = []\n",
    "for a in tqdm(nlp_values):\n",
    "    maximum = 0\n",
    "    current = None\n",
    "    for i,b in enumerate(nlp_values):\n",
    "        if a==b:\n",
    "            continue\n",
    "        sim = a.similarity(b)\n",
    "        if sim > maximum:\n",
    "            current = i\n",
    "    nlp_pairs.append(current)"
   ]
  },
  {
   "cell_type": "code",
   "execution_count": 20,
   "id": "38e69944-6d5d-4e3f-afb7-8e49f206802d",
   "metadata": {},
   "outputs": [
    {
     "data": {
      "text/plain": [
       "54845"
      ]
     },
     "execution_count": 20,
     "metadata": {},
     "output_type": "execute_result"
    }
   ],
   "source": [
    "len(df)"
   ]
  },
  {
   "cell_type": "code",
   "execution_count": null,
   "id": "019b9d94-fd5f-4daa-82af-a8c9d2ff3bb8",
   "metadata": {},
   "outputs": [],
   "source": []
  }
 ],
 "metadata": {
  "kernelspec": {
   "display_name": "Python 3",
   "language": "python",
   "name": "python3"
  },
  "language_info": {
   "codemirror_mode": {
    "name": "ipython",
    "version": 3
   },
   "file_extension": ".py",
   "mimetype": "text/x-python",
   "name": "python",
   "nbconvert_exporter": "python",
   "pygments_lexer": "ipython3",
   "version": "3.9.4"
  }
 },
 "nbformat": 4,
 "nbformat_minor": 5
}

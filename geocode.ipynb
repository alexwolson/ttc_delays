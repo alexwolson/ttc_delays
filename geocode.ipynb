{
 "cells": [
  {
   "cell_type": "code",
   "execution_count": 1,
   "id": "254f8ac7-f51d-4f06-bcc8-95f975d49535",
   "metadata": {},
   "outputs": [],
   "source": [
    "import pandas as pd\n",
    "from tqdm import tqdm\n",
    "from geopy.geocoders import Here"
   ]
  },
  {
   "cell_type": "code",
   "execution_count": 46,
   "id": "78a360e5-b788-4eb2-85e0-68070e87f7bd",
   "metadata": {},
   "outputs": [],
   "source": [
    "df = pd.read_pickle('bus_delays.pickle')"
   ]
  },
  {
   "cell_type": "code",
   "execution_count": 7,
   "id": "c7815f4e-94c5-457c-b55e-cc6d898db2ba",
   "metadata": {},
   "outputs": [],
   "source": [
    "here = Here(apikey='gOC6l9Nx4nDSvHcjzMfGaVvagDwxmO5BsQTrBL7IoBA')"
   ]
  },
  {
   "cell_type": "code",
   "execution_count": 8,
   "id": "70f93aba-4fc0-4eeb-91a5-1c882c13cdc7",
   "metadata": {},
   "outputs": [],
   "source": [
    "locations = {}"
   ]
  },
  {
   "cell_type": "code",
   "execution_count": 9,
   "id": "bd02130a-c181-4360-8748-bb77897b2a62",
   "metadata": {},
   "outputs": [],
   "source": [
    "seen = set(locations.keys())"
   ]
  },
  {
   "cell_type": "code",
   "execution_count": 17,
   "id": "d92bc690-940b-48b5-9e0c-78d3f27f2632",
   "metadata": {},
   "outputs": [
    {
     "name": "stderr",
     "output_type": "stream",
     "text": [
      "100%|██████████| 141752/141752 [01:27<00:00, 1628.20it/s]\n"
     ]
    }
   ],
   "source": [
    "for k,v in tqdm(df.iterrows(),total=len(df)):\n",
    "    if v.Station == v.Station:\n",
    "        query = f'{v.Station}, Toronto, Canada'.lower()\n",
    "        if query not in seen:\n",
    "            location = here.geocode(query)\n",
    "            locations[v.Station.lower()] = location\n",
    "            seen.add(query)"
   ]
  },
  {
   "cell_type": "code",
   "execution_count": 19,
   "id": "bdb52784-1818-4c14-bad4-ea50dd215a42",
   "metadata": {},
   "outputs": [],
   "source": [
    "import pickle\n",
    "with open('location_map.pickle','wb') as f:\n",
    "    pickle.dump(locations,f)"
   ]
  },
  {
   "cell_type": "code",
   "execution_count": 48,
   "id": "5689a5a8-2000-4ff1-962f-0e40e6d0b8cf",
   "metadata": {},
   "outputs": [],
   "source": [
    "df['geometry'] = None"
   ]
  },
  {
   "cell_type": "code",
   "execution_count": 49,
   "id": "249fcdf0-c9a3-4de7-b9a4-f740e4ac17b5",
   "metadata": {},
   "outputs": [],
   "source": [
    "df = df[~df.Location.isna()]\n",
    "for k,v in df.iterrows():\n",
    "    if isinstance(v.Location,tuple):\n",
    "        continue\n",
    "    if locations[v.Location.lower()] is None:\n",
    "        continue\n",
    "    df.at[k,'geometry'] = locations[v.Location.lower()][1]"
   ]
  },
  {
   "cell_type": "code",
   "execution_count": 50,
   "id": "983961e1-3896-4704-94a1-0a2cce623f13",
   "metadata": {},
   "outputs": [],
   "source": [
    "import geopandas as gpd"
   ]
  },
  {
   "cell_type": "code",
   "execution_count": 51,
   "id": "6e192395-8e63-4710-9772-34c6e2c6e785",
   "metadata": {},
   "outputs": [],
   "source": [
    "gdf = gpd.GeoDataFrame(df)"
   ]
  },
  {
   "cell_type": "code",
   "execution_count": 52,
   "id": "ec1acdd4-d68a-436e-8865-a03f982a05fa",
   "metadata": {},
   "outputs": [
    {
     "ename": "AttributeError",
     "evalue": "'Series' object has no attribute 'crs'",
     "output_type": "error",
     "traceback": [
      "\u001b[0;31m---------------------------------------------------------------------------\u001b[0m",
      "\u001b[0;31mAttributeError\u001b[0m                            Traceback (most recent call last)",
      "\u001b[0;32m<ipython-input-52-c980856e084b>\u001b[0m in \u001b[0;36m<module>\u001b[0;34m\u001b[0m\n\u001b[0;32m----> 1\u001b[0;31m \u001b[0mgdf\u001b[0m\u001b[0;34m.\u001b[0m\u001b[0mplot\u001b[0m\u001b[0;34m(\u001b[0m\u001b[0;34m)\u001b[0m\u001b[0;34m\u001b[0m\u001b[0;34m\u001b[0m\u001b[0m\n\u001b[0m",
      "\u001b[0;32m~/anaconda3/envs/ttc/lib/python3.9/site-packages/geopandas/plotting.py\u001b[0m in \u001b[0;36m__call__\u001b[0;34m(self, *args, **kwargs)\u001b[0m\n\u001b[1;32m    923\u001b[0m             \u001b[0mkind\u001b[0m \u001b[0;34m=\u001b[0m \u001b[0mkwargs\u001b[0m\u001b[0;34m.\u001b[0m\u001b[0mpop\u001b[0m\u001b[0;34m(\u001b[0m\u001b[0;34m\"kind\"\u001b[0m\u001b[0;34m,\u001b[0m \u001b[0;34m\"geo\"\u001b[0m\u001b[0;34m)\u001b[0m\u001b[0;34m\u001b[0m\u001b[0;34m\u001b[0m\u001b[0m\n\u001b[1;32m    924\u001b[0m             \u001b[0;32mif\u001b[0m \u001b[0mkind\u001b[0m \u001b[0;34m==\u001b[0m \u001b[0;34m\"geo\"\u001b[0m\u001b[0;34m:\u001b[0m\u001b[0;34m\u001b[0m\u001b[0;34m\u001b[0m\u001b[0m\n\u001b[0;32m--> 925\u001b[0;31m                 \u001b[0;32mreturn\u001b[0m \u001b[0mplot_dataframe\u001b[0m\u001b[0;34m(\u001b[0m\u001b[0mdata\u001b[0m\u001b[0;34m,\u001b[0m \u001b[0;34m*\u001b[0m\u001b[0margs\u001b[0m\u001b[0;34m,\u001b[0m \u001b[0;34m**\u001b[0m\u001b[0mkwargs\u001b[0m\u001b[0;34m)\u001b[0m\u001b[0;34m\u001b[0m\u001b[0;34m\u001b[0m\u001b[0m\n\u001b[0m\u001b[1;32m    926\u001b[0m             \u001b[0;32mif\u001b[0m \u001b[0mkind\u001b[0m \u001b[0;32min\u001b[0m \u001b[0mself\u001b[0m\u001b[0;34m.\u001b[0m\u001b[0m_pandas_kinds\u001b[0m\u001b[0;34m:\u001b[0m\u001b[0;34m\u001b[0m\u001b[0;34m\u001b[0m\u001b[0m\n\u001b[1;32m    927\u001b[0m                 \u001b[0;31m# Access pandas plots\u001b[0m\u001b[0;34m\u001b[0m\u001b[0;34m\u001b[0m\u001b[0;34m\u001b[0m\u001b[0m\n",
      "\u001b[0;32m~/anaconda3/envs/ttc/lib/python3.9/site-packages/geopandas/plotting.py\u001b[0m in \u001b[0;36mplot_dataframe\u001b[0;34m(df, column, cmap, color, ax, cax, categorical, legend, scheme, k, vmin, vmax, markersize, figsize, legend_kwds, categories, classification_kwds, missing_kwds, aspect, **style_kwds)\u001b[0m\n\u001b[1;32m    687\u001b[0m \u001b[0;34m\u001b[0m\u001b[0m\n\u001b[1;32m    688\u001b[0m     \u001b[0;32mif\u001b[0m \u001b[0mcolumn\u001b[0m \u001b[0;32mis\u001b[0m \u001b[0;32mNone\u001b[0m\u001b[0;34m:\u001b[0m\u001b[0;34m\u001b[0m\u001b[0;34m\u001b[0m\u001b[0m\n\u001b[0;32m--> 689\u001b[0;31m         return plot_series(\n\u001b[0m\u001b[1;32m    690\u001b[0m             \u001b[0mdf\u001b[0m\u001b[0;34m.\u001b[0m\u001b[0mgeometry\u001b[0m\u001b[0;34m,\u001b[0m\u001b[0;34m\u001b[0m\u001b[0;34m\u001b[0m\u001b[0m\n\u001b[1;32m    691\u001b[0m             \u001b[0mcmap\u001b[0m\u001b[0;34m=\u001b[0m\u001b[0mcmap\u001b[0m\u001b[0;34m,\u001b[0m\u001b[0;34m\u001b[0m\u001b[0;34m\u001b[0m\u001b[0m\n",
      "\u001b[0;32m~/anaconda3/envs/ttc/lib/python3.9/site-packages/geopandas/plotting.py\u001b[0m in \u001b[0;36mplot_series\u001b[0;34m(s, cmap, color, ax, figsize, aspect, **style_kwds)\u001b[0m\n\u001b[1;32m    385\u001b[0m \u001b[0;34m\u001b[0m\u001b[0m\n\u001b[1;32m    386\u001b[0m     \u001b[0;32mif\u001b[0m \u001b[0maspect\u001b[0m \u001b[0;34m==\u001b[0m \u001b[0;34m\"auto\"\u001b[0m\u001b[0;34m:\u001b[0m\u001b[0;34m\u001b[0m\u001b[0;34m\u001b[0m\u001b[0m\n\u001b[0;32m--> 387\u001b[0;31m         \u001b[0;32mif\u001b[0m \u001b[0ms\u001b[0m\u001b[0;34m.\u001b[0m\u001b[0mcrs\u001b[0m \u001b[0;32mand\u001b[0m \u001b[0ms\u001b[0m\u001b[0;34m.\u001b[0m\u001b[0mcrs\u001b[0m\u001b[0;34m.\u001b[0m\u001b[0mis_geographic\u001b[0m\u001b[0;34m:\u001b[0m\u001b[0;34m\u001b[0m\u001b[0;34m\u001b[0m\u001b[0m\n\u001b[0m\u001b[1;32m    388\u001b[0m             \u001b[0mbounds\u001b[0m \u001b[0;34m=\u001b[0m \u001b[0ms\u001b[0m\u001b[0;34m.\u001b[0m\u001b[0mtotal_bounds\u001b[0m\u001b[0;34m\u001b[0m\u001b[0;34m\u001b[0m\u001b[0m\n\u001b[1;32m    389\u001b[0m             \u001b[0my_coord\u001b[0m \u001b[0;34m=\u001b[0m \u001b[0mnp\u001b[0m\u001b[0;34m.\u001b[0m\u001b[0mmean\u001b[0m\u001b[0;34m(\u001b[0m\u001b[0;34m[\u001b[0m\u001b[0mbounds\u001b[0m\u001b[0;34m[\u001b[0m\u001b[0;36m1\u001b[0m\u001b[0;34m]\u001b[0m\u001b[0;34m,\u001b[0m \u001b[0mbounds\u001b[0m\u001b[0;34m[\u001b[0m\u001b[0;36m3\u001b[0m\u001b[0;34m]\u001b[0m\u001b[0;34m]\u001b[0m\u001b[0;34m)\u001b[0m\u001b[0;34m\u001b[0m\u001b[0;34m\u001b[0m\u001b[0m\n",
      "\u001b[0;32m~/anaconda3/envs/ttc/lib/python3.9/site-packages/pandas/core/generic.py\u001b[0m in \u001b[0;36m__getattr__\u001b[0;34m(self, name)\u001b[0m\n\u001b[1;32m   5463\u001b[0m             \u001b[0;32mif\u001b[0m \u001b[0mself\u001b[0m\u001b[0;34m.\u001b[0m\u001b[0m_info_axis\u001b[0m\u001b[0;34m.\u001b[0m\u001b[0m_can_hold_identifiers_and_holds_name\u001b[0m\u001b[0;34m(\u001b[0m\u001b[0mname\u001b[0m\u001b[0;34m)\u001b[0m\u001b[0;34m:\u001b[0m\u001b[0;34m\u001b[0m\u001b[0;34m\u001b[0m\u001b[0m\n\u001b[1;32m   5464\u001b[0m                 \u001b[0;32mreturn\u001b[0m \u001b[0mself\u001b[0m\u001b[0;34m[\u001b[0m\u001b[0mname\u001b[0m\u001b[0;34m]\u001b[0m\u001b[0;34m\u001b[0m\u001b[0;34m\u001b[0m\u001b[0m\n\u001b[0;32m-> 5465\u001b[0;31m             \u001b[0;32mreturn\u001b[0m \u001b[0mobject\u001b[0m\u001b[0;34m.\u001b[0m\u001b[0m__getattribute__\u001b[0m\u001b[0;34m(\u001b[0m\u001b[0mself\u001b[0m\u001b[0;34m,\u001b[0m \u001b[0mname\u001b[0m\u001b[0;34m)\u001b[0m\u001b[0;34m\u001b[0m\u001b[0;34m\u001b[0m\u001b[0m\n\u001b[0m\u001b[1;32m   5466\u001b[0m \u001b[0;34m\u001b[0m\u001b[0m\n\u001b[1;32m   5467\u001b[0m     \u001b[0;32mdef\u001b[0m \u001b[0m__setattr__\u001b[0m\u001b[0;34m(\u001b[0m\u001b[0mself\u001b[0m\u001b[0;34m,\u001b[0m \u001b[0mname\u001b[0m\u001b[0;34m:\u001b[0m \u001b[0mstr\u001b[0m\u001b[0;34m,\u001b[0m \u001b[0mvalue\u001b[0m\u001b[0;34m)\u001b[0m \u001b[0;34m->\u001b[0m \u001b[0;32mNone\u001b[0m\u001b[0;34m:\u001b[0m\u001b[0;34m\u001b[0m\u001b[0;34m\u001b[0m\u001b[0m\n",
      "\u001b[0;31mAttributeError\u001b[0m: 'Series' object has no attribute 'crs'"
     ]
    },
    {
     "data": {
      "image/png": "[encoded data removed]",
      "text/plain": [
       "<Figure size 432x288 with 1 Axes>"
      ]
     },
     "metadata": {
      "needs_background": "light"
     },
     "output_type": "display_data"
    }
   ],
   "source": [
    "gdf.plot()"
   ]
  },
  {
   "cell_type": "code",
   "execution_count": 53,
   "id": "c9236bed-de3c-4611-b2d7-7802bea3d976",
   "metadata": {},
   "outputs": [
    {
     "data": {
      "text/html": [
       "<div>\n",
       "<style scoped>\n",
       "    .dataframe tbody tr th:only-of-type {\n",
       "        vertical-align: middle;\n",
       "    }\n",
       "\n",
       "    .dataframe tbody tr th {\n",
       "        vertical-align: top;\n",
       "    }\n",
       "\n",
       "    .dataframe thead th {\n",
       "        text-align: right;\n",
       "    }\n",
       "</style>\n",
       "<table border=\"1\" class=\"dataframe\">\n",
       "  <thead>\n",
       "    <tr style=\"text-align: right;\">\n",
       "      <th></th>\n",
       "      <th>Report Date</th>\n",
       "      <th>Route</th>\n",
       "      <th>Time</th>\n",
       "      <th>Day</th>\n",
       "      <th>Location</th>\n",
       "      <th>Incident</th>\n",
       "      <th>Min Delay</th>\n",
       "      <th>Min Gap</th>\n",
       "      <th>Direction</th>\n",
       "      <th>Vehicle</th>\n",
       "      <th>Delay</th>\n",
       "      <th>Gap</th>\n",
       "      <th>geometry</th>\n",
       "    </tr>\n",
       "  </thead>\n",
       "  <tbody>\n",
       "    <tr>\n",
       "      <th>0</th>\n",
       "      <td>2014-01-01</td>\n",
       "      <td>95</td>\n",
       "      <td>00:23:00</td>\n",
       "      <td>Wednesday</td>\n",
       "      <td>York Mills station</td>\n",
       "      <td>Mechanical</td>\n",
       "      <td>10.0</td>\n",
       "      <td>20.0</td>\n",
       "      <td>E</td>\n",
       "      <td>1734.0</td>\n",
       "      <td>NaN</td>\n",
       "      <td>NaN</td>\n",
       "      <td>(43.70112, -79.51613)</td>\n",
       "    </tr>\n",
       "    <tr>\n",
       "      <th>1</th>\n",
       "      <td>2014-01-01</td>\n",
       "      <td>102</td>\n",
       "      <td>00:55:00</td>\n",
       "      <td>Wednesday</td>\n",
       "      <td>Entire run for route</td>\n",
       "      <td>General Delay</td>\n",
       "      <td>33.0</td>\n",
       "      <td>66.0</td>\n",
       "      <td>b/w</td>\n",
       "      <td>8110.0</td>\n",
       "      <td>NaN</td>\n",
       "      <td>NaN</td>\n",
       "      <td>(43.6487, -79.38545)</td>\n",
       "    </tr>\n",
       "    <tr>\n",
       "      <th>2</th>\n",
       "      <td>2014-01-01</td>\n",
       "      <td>54</td>\n",
       "      <td>01:28:00</td>\n",
       "      <td>Wednesday</td>\n",
       "      <td>lawrence and Warden</td>\n",
       "      <td>Mechanical</td>\n",
       "      <td>10.0</td>\n",
       "      <td>20.0</td>\n",
       "      <td>WB</td>\n",
       "      <td>7478.0</td>\n",
       "      <td>NaN</td>\n",
       "      <td>NaN</td>\n",
       "      <td>(43.74539, -79.29476)</td>\n",
       "    </tr>\n",
       "    <tr>\n",
       "      <th>3</th>\n",
       "      <td>2014-01-01</td>\n",
       "      <td>112</td>\n",
       "      <td>01:30:00</td>\n",
       "      <td>Wednesday</td>\n",
       "      <td>Kipling Station</td>\n",
       "      <td>Emergency Services</td>\n",
       "      <td>18.0</td>\n",
       "      <td>36.0</td>\n",
       "      <td>N</td>\n",
       "      <td>8084.0</td>\n",
       "      <td>NaN</td>\n",
       "      <td>NaN</td>\n",
       "      <td>(43.71577, -79.56865)</td>\n",
       "    </tr>\n",
       "    <tr>\n",
       "      <th>4</th>\n",
       "      <td>2014-01-01</td>\n",
       "      <td>24</td>\n",
       "      <td>01:37:00</td>\n",
       "      <td>Wednesday</td>\n",
       "      <td>VP and Ellesmere</td>\n",
       "      <td>Investigation</td>\n",
       "      <td>10.0</td>\n",
       "      <td>20.0</td>\n",
       "      <td>n</td>\n",
       "      <td>7843.0</td>\n",
       "      <td>NaN</td>\n",
       "      <td>NaN</td>\n",
       "      <td>(43.79233, -79.16427)</td>\n",
       "    </tr>\n",
       "    <tr>\n",
       "      <th>...</th>\n",
       "      <td>...</td>\n",
       "      <td>...</td>\n",
       "      <td>...</td>\n",
       "      <td>...</td>\n",
       "      <td>...</td>\n",
       "      <td>...</td>\n",
       "      <td>...</td>\n",
       "      <td>...</td>\n",
       "      <td>...</td>\n",
       "      <td>...</td>\n",
       "      <td>...</td>\n",
       "      <td>...</td>\n",
       "      <td>...</td>\n",
       "    </tr>\n",
       "    <tr>\n",
       "      <th>54924</th>\n",
       "      <td>2015-01-31</td>\n",
       "      <td>24</td>\n",
       "      <td>22:35:00</td>\n",
       "      <td>Saturday</td>\n",
       "      <td>MCNICOLL AND VICTORIA PARK</td>\n",
       "      <td>Mechanical</td>\n",
       "      <td>10.0</td>\n",
       "      <td>20.0</td>\n",
       "      <td>SB</td>\n",
       "      <td>7714.0</td>\n",
       "      <td>NaN</td>\n",
       "      <td>NaN</td>\n",
       "      <td>(43.80407, -79.33633)</td>\n",
       "    </tr>\n",
       "    <tr>\n",
       "      <th>54925</th>\n",
       "      <td>2015-01-31</td>\n",
       "      <td>22</td>\n",
       "      <td>22:43:00</td>\n",
       "      <td>Saturday</td>\n",
       "      <td>SCARBORO AND KINGSTON</td>\n",
       "      <td>Mechanical</td>\n",
       "      <td>15.0</td>\n",
       "      <td>30.0</td>\n",
       "      <td>SB</td>\n",
       "      <td>7838.0</td>\n",
       "      <td>NaN</td>\n",
       "      <td>NaN</td>\n",
       "      <td>(43.73675, -79.21947)</td>\n",
       "    </tr>\n",
       "    <tr>\n",
       "      <th>54926</th>\n",
       "      <td>2015-01-31</td>\n",
       "      <td>29</td>\n",
       "      <td>22:48:00</td>\n",
       "      <td>Saturday</td>\n",
       "      <td>Queen &amp; Dufferin</td>\n",
       "      <td>Mechanical</td>\n",
       "      <td>8.0</td>\n",
       "      <td>16.0</td>\n",
       "      <td>NB</td>\n",
       "      <td>8355.0</td>\n",
       "      <td>NaN</td>\n",
       "      <td>NaN</td>\n",
       "      <td>(43.64223, -79.42861)</td>\n",
       "    </tr>\n",
       "    <tr>\n",
       "      <th>54927</th>\n",
       "      <td>2015-01-31</td>\n",
       "      <td>106</td>\n",
       "      <td>23:35:00</td>\n",
       "      <td>Saturday</td>\n",
       "      <td>Downsview STN</td>\n",
       "      <td>Mechanical</td>\n",
       "      <td>12.0</td>\n",
       "      <td>24.0</td>\n",
       "      <td>NB</td>\n",
       "      <td>8169.0</td>\n",
       "      <td>NaN</td>\n",
       "      <td>NaN</td>\n",
       "      <td>(43.72892, -79.49136)</td>\n",
       "    </tr>\n",
       "    <tr>\n",
       "      <th>54928</th>\n",
       "      <td>2015-01-31</td>\n",
       "      <td>165</td>\n",
       "      <td>23:38:00</td>\n",
       "      <td>Saturday</td>\n",
       "      <td>Wilson Station</td>\n",
       "      <td>Mechanical</td>\n",
       "      <td>13.0</td>\n",
       "      <td>27.0</td>\n",
       "      <td>E4</td>\n",
       "      <td>1380.0</td>\n",
       "      <td>NaN</td>\n",
       "      <td>NaN</td>\n",
       "      <td>(43.70112, -79.51613)</td>\n",
       "    </tr>\n",
       "  </tbody>\n",
       "</table>\n",
       "<p>54845 rows × 13 columns</p>\n",
       "</div>"
      ],
      "text/plain": [
       "      Report Date  Route      Time        Day                    Location  \\\n",
       "0      2014-01-01     95  00:23:00  Wednesday          York Mills station   \n",
       "1      2014-01-01    102  00:55:00  Wednesday        Entire run for route   \n",
       "2      2014-01-01     54  01:28:00  Wednesday         lawrence and Warden   \n",
       "3      2014-01-01    112  01:30:00  Wednesday             Kipling Station   \n",
       "4      2014-01-01     24  01:37:00  Wednesday            VP and Ellesmere   \n",
       "...           ...    ...       ...        ...                         ...   \n",
       "54924  2015-01-31     24  22:35:00   Saturday  MCNICOLL AND VICTORIA PARK   \n",
       "54925  2015-01-31     22  22:43:00   Saturday       SCARBORO AND KINGSTON   \n",
       "54926  2015-01-31     29  22:48:00   Saturday            Queen & Dufferin   \n",
       "54927  2015-01-31    106  23:35:00   Saturday               Downsview STN   \n",
       "54928  2015-01-31    165  23:38:00   Saturday              Wilson Station   \n",
       "\n",
       "                 Incident  Min Delay  Min Gap Direction  Vehicle  Delay  Gap  \\\n",
       "0              Mechanical       10.0     20.0         E   1734.0    NaN  NaN   \n",
       "1           General Delay       33.0     66.0       b/w   8110.0    NaN  NaN   \n",
       "2              Mechanical       10.0     20.0        WB   7478.0    NaN  NaN   \n",
       "3      Emergency Services       18.0     36.0         N   8084.0    NaN  NaN   \n",
       "4           Investigation       10.0     20.0         n   7843.0    NaN  NaN   \n",
       "...                   ...        ...      ...       ...      ...    ...  ...   \n",
       "54924          Mechanical       10.0     20.0        SB   7714.0    NaN  NaN   \n",
       "54925          Mechanical       15.0     30.0        SB   7838.0    NaN  NaN   \n",
       "54926          Mechanical        8.0     16.0        NB   8355.0    NaN  NaN   \n",
       "54927          Mechanical       12.0     24.0        NB   8169.0    NaN  NaN   \n",
       "54928          Mechanical       13.0     27.0        E4   1380.0    NaN  NaN   \n",
       "\n",
       "                    geometry  \n",
       "0      (43.70112, -79.51613)  \n",
       "1       (43.6487, -79.38545)  \n",
       "2      (43.74539, -79.29476)  \n",
       "3      (43.71577, -79.56865)  \n",
       "4      (43.79233, -79.16427)  \n",
       "...                      ...  \n",
       "54924  (43.80407, -79.33633)  \n",
       "54925  (43.73675, -79.21947)  \n",
       "54926  (43.64223, -79.42861)  \n",
       "54927  (43.72892, -79.49136)  \n",
       "54928  (43.70112, -79.51613)  \n",
       "\n",
       "[54845 rows x 13 columns]"
      ]
     },
     "execution_count": 53,
     "metadata": {},
     "output_type": "execute_result"
    }
   ],
   "source": [
    "gdf"
   ]
  },
  {
   "cell_type": "code",
   "execution_count": null,
   "id": "d147e156-fa7b-4b4d-af5c-18cc1dd5ddcf",
   "metadata": {},
   "outputs": [],
   "source": []
  }
 ],
 "metadata": {
  "kernelspec": {
   "display_name": "Python 3",
   "language": "python",
   "name": "python3"
  },
  "language_info": {
   "codemirror_mode": {
    "name": "ipython",
    "version": 3
   },
   "file_extension": ".py",
   "mimetype": "text/x-python",
   "name": "python",
   "nbconvert_exporter": "python",
   "pygments_lexer": "ipython3",
   "version": "3.9.4"
  }
 },
 "nbformat": 4,
 "nbformat_minor": 5
}

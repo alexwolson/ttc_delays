{
 "cells": [
  {
   "cell_type": "code",
   "execution_count": 1,
   "id": "881e10ee-5219-4b07-b074-07feca122321",
   "metadata": {},
   "outputs": [],
   "source": [
    "import geopandas as gpd\n",
    "import pandas as pd\n",
    "import pickle\n",
    "from tqdm import tqdm\n",
    "from shapely.geometry import Polygon, Point"
   ]
  },
  {
   "cell_type": "code",
   "execution_count": 2,
   "id": "23a87443-48d2-4031-8876-d77ee4b76a3d",
   "metadata": {},
   "outputs": [],
   "source": [
    "df = pd.read_pickle('bus_delays.pickle')"
   ]
  },
  {
   "cell_type": "code",
   "execution_count": 3,
   "id": "7b3e5d5d-0193-4318-94ab-de679091e85f",
   "metadata": {},
   "outputs": [],
   "source": [
    "with open('location_map.pickle','rb') as f:\n",
    "    locations = pickle.load(f)"
   ]
  },
  {
   "cell_type": "code",
   "execution_count": 28,
   "id": "afa03f40-b4ce-40a5-8530-ecfd9ee4ba3e",
   "metadata": {},
   "outputs": [],
   "source": [
    "census_tracts = gpd.read_file('shapefiles/lct_000b16a_e.shp')"
   ]
  },
  {
   "cell_type": "code",
   "execution_count": 29,
   "id": "7dccbb88-35f3-432b-b43e-bc770e8fcb46",
   "metadata": {},
   "outputs": [],
   "source": [
    "census_tracts = census_tracts[census_tracts.CMANAME == 'Toronto']"
   ]
  },
  {
   "cell_type": "code",
   "execution_count": 30,
   "id": "ff01c2a3-ace3-4014-9459-6be34029fec0",
   "metadata": {},
   "outputs": [],
   "source": [
    "name_to_cma = {}"
   ]
  },
  {
   "cell_type": "code",
   "execution_count": 31,
   "id": "92eb4e22-eba1-4bf8-9287-dfdddd9ad65a",
   "metadata": {},
   "outputs": [
    {
     "name": "stderr",
     "output_type": "stream",
     "text": [
      "  0%|          | 32/16712 [00:02<21:23, 13.00it/s]\n"
     ]
    },
    {
     "ename": "KeyboardInterrupt",
     "evalue": "",
     "output_type": "error",
     "traceback": [
      "\u001b[0;31m---------------------------------------------------------------------------\u001b[0m",
      "\u001b[0;31mKeyboardInterrupt\u001b[0m                         Traceback (most recent call last)",
      "\u001b[0;32m<ipython-input-31-300145fb4ca3>\u001b[0m in \u001b[0;36m<module>\u001b[0;34m\u001b[0m\n\u001b[1;32m      1\u001b[0m \u001b[0;32mfor\u001b[0m \u001b[0mk\u001b[0m\u001b[0;34m,\u001b[0m\u001b[0mv\u001b[0m \u001b[0;32min\u001b[0m \u001b[0mtqdm\u001b[0m\u001b[0;34m(\u001b[0m\u001b[0mlocations\u001b[0m\u001b[0;34m.\u001b[0m\u001b[0mitems\u001b[0m\u001b[0;34m(\u001b[0m\u001b[0;34m)\u001b[0m\u001b[0;34m,\u001b[0m\u001b[0mtotal\u001b[0m\u001b[0;34m=\u001b[0m\u001b[0mlen\u001b[0m\u001b[0;34m(\u001b[0m\u001b[0mlocations\u001b[0m\u001b[0;34m)\u001b[0m\u001b[0;34m)\u001b[0m\u001b[0;34m:\u001b[0m\u001b[0;34m\u001b[0m\u001b[0;34m\u001b[0m\u001b[0m\n\u001b[0;32m----> 2\u001b[0;31m     \u001b[0;32mfor\u001b[0m \u001b[0m_\u001b[0m\u001b[0;34m,\u001b[0m\u001b[0mtract\u001b[0m \u001b[0;32min\u001b[0m \u001b[0mcensus_tracts\u001b[0m\u001b[0;34m.\u001b[0m\u001b[0miterrows\u001b[0m\u001b[0;34m(\u001b[0m\u001b[0;34m)\u001b[0m\u001b[0;34m:\u001b[0m\u001b[0;34m\u001b[0m\u001b[0;34m\u001b[0m\u001b[0m\n\u001b[0m\u001b[1;32m      3\u001b[0m         \u001b[0;32mif\u001b[0m \u001b[0mv\u001b[0m \u001b[0;32mis\u001b[0m \u001b[0;32mnot\u001b[0m \u001b[0;32mNone\u001b[0m\u001b[0;34m:\u001b[0m\u001b[0;34m\u001b[0m\u001b[0;34m\u001b[0m\u001b[0m\n\u001b[1;32m      4\u001b[0m             \u001b[0;32mif\u001b[0m \u001b[0mPoint\u001b[0m\u001b[0;34m(\u001b[0m\u001b[0mv\u001b[0m\u001b[0;34m[\u001b[0m\u001b[0;36m1\u001b[0m\u001b[0;34m]\u001b[0m\u001b[0;34m)\u001b[0m\u001b[0;34m.\u001b[0m\u001b[0mwithin\u001b[0m\u001b[0;34m(\u001b[0m\u001b[0mtract\u001b[0m\u001b[0;34m.\u001b[0m\u001b[0mgeometry\u001b[0m\u001b[0;34m)\u001b[0m\u001b[0;34m:\u001b[0m\u001b[0;34m\u001b[0m\u001b[0;34m\u001b[0m\u001b[0m\n\u001b[1;32m      5\u001b[0m                 \u001b[0mname_to_cma\u001b[0m\u001b[0;34m[\u001b[0m\u001b[0mk\u001b[0m\u001b[0;34m]\u001b[0m \u001b[0;34m=\u001b[0m \u001b[0mtract\u001b[0m\u001b[0;34m.\u001b[0m\u001b[0mCTUID\u001b[0m\u001b[0;34m\u001b[0m\u001b[0;34m\u001b[0m\u001b[0m\n",
      "\u001b[0;32m~/anaconda3/envs/ttc/lib/python3.9/site-packages/pandas/core/frame.py\u001b[0m in \u001b[0;36miterrows\u001b[0;34m(self)\u001b[0m\n\u001b[1;32m   1069\u001b[0m         \u001b[0mklass\u001b[0m \u001b[0;34m=\u001b[0m \u001b[0mself\u001b[0m\u001b[0;34m.\u001b[0m\u001b[0m_constructor_sliced\u001b[0m\u001b[0;34m\u001b[0m\u001b[0;34m\u001b[0m\u001b[0m\n\u001b[1;32m   1070\u001b[0m         \u001b[0;32mfor\u001b[0m \u001b[0mk\u001b[0m\u001b[0;34m,\u001b[0m \u001b[0mv\u001b[0m \u001b[0;32min\u001b[0m \u001b[0mzip\u001b[0m\u001b[0;34m(\u001b[0m\u001b[0mself\u001b[0m\u001b[0;34m.\u001b[0m\u001b[0mindex\u001b[0m\u001b[0;34m,\u001b[0m \u001b[0mself\u001b[0m\u001b[0;34m.\u001b[0m\u001b[0mvalues\u001b[0m\u001b[0;34m)\u001b[0m\u001b[0;34m:\u001b[0m\u001b[0;34m\u001b[0m\u001b[0;34m\u001b[0m\u001b[0m\n\u001b[0;32m-> 1071\u001b[0;31m             \u001b[0ms\u001b[0m \u001b[0;34m=\u001b[0m \u001b[0mklass\u001b[0m\u001b[0;34m(\u001b[0m\u001b[0mv\u001b[0m\u001b[0;34m,\u001b[0m \u001b[0mindex\u001b[0m\u001b[0;34m=\u001b[0m\u001b[0mcolumns\u001b[0m\u001b[0;34m,\u001b[0m \u001b[0mname\u001b[0m\u001b[0;34m=\u001b[0m\u001b[0mk\u001b[0m\u001b[0;34m)\u001b[0m\u001b[0;34m\u001b[0m\u001b[0;34m\u001b[0m\u001b[0m\n\u001b[0m\u001b[1;32m   1072\u001b[0m             \u001b[0;32myield\u001b[0m \u001b[0mk\u001b[0m\u001b[0;34m,\u001b[0m \u001b[0ms\u001b[0m\u001b[0;34m\u001b[0m\u001b[0;34m\u001b[0m\u001b[0m\n\u001b[1;32m   1073\u001b[0m \u001b[0;34m\u001b[0m\u001b[0m\n",
      "\u001b[0;32m~/anaconda3/envs/ttc/lib/python3.9/site-packages/pandas/core/series.py\u001b[0m in \u001b[0;36m__init__\u001b[0;34m(self, data, index, dtype, name, copy, fastpath)\u001b[0m\n\u001b[1;32m    367\u001b[0m \u001b[0;34m\u001b[0m\u001b[0m\n\u001b[1;32m    368\u001b[0m         \u001b[0mgeneric\u001b[0m\u001b[0;34m.\u001b[0m\u001b[0mNDFrame\u001b[0m\u001b[0;34m.\u001b[0m\u001b[0m__init__\u001b[0m\u001b[0;34m(\u001b[0m\u001b[0mself\u001b[0m\u001b[0;34m,\u001b[0m \u001b[0mdata\u001b[0m\u001b[0;34m)\u001b[0m\u001b[0;34m\u001b[0m\u001b[0;34m\u001b[0m\u001b[0m\n\u001b[0;32m--> 369\u001b[0;31m         \u001b[0mself\u001b[0m\u001b[0;34m.\u001b[0m\u001b[0mname\u001b[0m \u001b[0;34m=\u001b[0m \u001b[0mname\u001b[0m\u001b[0;34m\u001b[0m\u001b[0;34m\u001b[0m\u001b[0m\n\u001b[0m\u001b[1;32m    370\u001b[0m         \u001b[0mself\u001b[0m\u001b[0;34m.\u001b[0m\u001b[0m_set_axis\u001b[0m\u001b[0;34m(\u001b[0m\u001b[0;36m0\u001b[0m\u001b[0;34m,\u001b[0m \u001b[0mindex\u001b[0m\u001b[0;34m,\u001b[0m \u001b[0mfastpath\u001b[0m\u001b[0;34m=\u001b[0m\u001b[0;32mTrue\u001b[0m\u001b[0;34m)\u001b[0m\u001b[0;34m\u001b[0m\u001b[0;34m\u001b[0m\u001b[0m\n\u001b[1;32m    371\u001b[0m \u001b[0;34m\u001b[0m\u001b[0m\n",
      "\u001b[0;32m~/anaconda3/envs/ttc/lib/python3.9/site-packages/pandas/core/generic.py\u001b[0m in \u001b[0;36m__setattr__\u001b[0;34m(self, name, value)\u001b[0m\n\u001b[1;32m   5475\u001b[0m \u001b[0;34m\u001b[0m\u001b[0m\n\u001b[1;32m   5476\u001b[0m         \u001b[0;32mtry\u001b[0m\u001b[0;34m:\u001b[0m\u001b[0;34m\u001b[0m\u001b[0;34m\u001b[0m\u001b[0m\n\u001b[0;32m-> 5477\u001b[0;31m             \u001b[0mobject\u001b[0m\u001b[0;34m.\u001b[0m\u001b[0m__getattribute__\u001b[0m\u001b[0;34m(\u001b[0m\u001b[0mself\u001b[0m\u001b[0;34m,\u001b[0m \u001b[0mname\u001b[0m\u001b[0;34m)\u001b[0m\u001b[0;34m\u001b[0m\u001b[0;34m\u001b[0m\u001b[0m\n\u001b[0m\u001b[1;32m   5478\u001b[0m             \u001b[0;32mreturn\u001b[0m \u001b[0mobject\u001b[0m\u001b[0;34m.\u001b[0m\u001b[0m__setattr__\u001b[0m\u001b[0;34m(\u001b[0m\u001b[0mself\u001b[0m\u001b[0;34m,\u001b[0m \u001b[0mname\u001b[0m\u001b[0;34m,\u001b[0m \u001b[0mvalue\u001b[0m\u001b[0;34m)\u001b[0m\u001b[0;34m\u001b[0m\u001b[0;34m\u001b[0m\u001b[0m\n\u001b[1;32m   5479\u001b[0m         \u001b[0;32mexcept\u001b[0m \u001b[0mAttributeError\u001b[0m\u001b[0;34m:\u001b[0m\u001b[0;34m\u001b[0m\u001b[0;34m\u001b[0m\u001b[0m\n",
      "\u001b[0;32m~/anaconda3/envs/ttc/lib/python3.9/site-packages/pandas/core/series.py\u001b[0m in \u001b[0;36mname\u001b[0;34m(self)\u001b[0m\n\u001b[1;32m    534\u001b[0m         \u001b[0;34m'Even Numbers'\u001b[0m\u001b[0;34m\u001b[0m\u001b[0;34m\u001b[0m\u001b[0m\n\u001b[1;32m    535\u001b[0m         \"\"\"\n\u001b[0;32m--> 536\u001b[0;31m         \u001b[0;32mreturn\u001b[0m \u001b[0mself\u001b[0m\u001b[0;34m.\u001b[0m\u001b[0m_name\u001b[0m\u001b[0;34m\u001b[0m\u001b[0;34m\u001b[0m\u001b[0m\n\u001b[0m\u001b[1;32m    537\u001b[0m \u001b[0;34m\u001b[0m\u001b[0m\n\u001b[1;32m    538\u001b[0m     \u001b[0;34m@\u001b[0m\u001b[0mname\u001b[0m\u001b[0;34m.\u001b[0m\u001b[0msetter\u001b[0m\u001b[0;34m\u001b[0m\u001b[0;34m\u001b[0m\u001b[0m\n",
      "\u001b[0;32m~/anaconda3/envs/ttc/lib/python3.9/site-packages/pandas/core/generic.py\u001b[0m in \u001b[0;36m__getattr__\u001b[0;34m(self, name)\u001b[0m\n\u001b[1;32m   5455\u001b[0m         \u001b[0;31m# calling obj.__getattr__('x').\u001b[0m\u001b[0;34m\u001b[0m\u001b[0;34m\u001b[0m\u001b[0;34m\u001b[0m\u001b[0m\n\u001b[1;32m   5456\u001b[0m         if (\n\u001b[0;32m-> 5457\u001b[0;31m             \u001b[0mname\u001b[0m \u001b[0;32min\u001b[0m \u001b[0mself\u001b[0m\u001b[0;34m.\u001b[0m\u001b[0m_internal_names_set\u001b[0m\u001b[0;34m\u001b[0m\u001b[0;34m\u001b[0m\u001b[0m\n\u001b[0m\u001b[1;32m   5458\u001b[0m             \u001b[0;32mor\u001b[0m \u001b[0mname\u001b[0m \u001b[0;32min\u001b[0m \u001b[0mself\u001b[0m\u001b[0;34m.\u001b[0m\u001b[0m_metadata\u001b[0m\u001b[0;34m\u001b[0m\u001b[0;34m\u001b[0m\u001b[0m\n\u001b[1;32m   5459\u001b[0m             \u001b[0;32mor\u001b[0m \u001b[0mname\u001b[0m \u001b[0;32min\u001b[0m \u001b[0mself\u001b[0m\u001b[0;34m.\u001b[0m\u001b[0m_accessors\u001b[0m\u001b[0;34m\u001b[0m\u001b[0;34m\u001b[0m\u001b[0m\n",
      "\u001b[0;31mKeyboardInterrupt\u001b[0m: "
     ]
    }
   ],
   "source": [
    "for k,v in tqdm(locations.items(),total=len(locations)):\n",
    "    for _,tract in census_tracts.iterrows():\n",
    "        if v is not None:\n",
    "            if Point(v[1]).within(tract.geometry):\n",
    "                name_to_cma[k] = tract.CTUID\n",
    "                break"
   ]
  },
  {
   "cell_type": "code",
   "execution_count": 18,
   "id": "34e29816-7e4c-4374-9b35-43db678c500f",
   "metadata": {},
   "outputs": [
    {
     "ename": "KeyError",
     "evalue": "'york mills station'",
     "output_type": "error",
     "traceback": [
      "\u001b[0;31m---------------------------------------------------------------------------\u001b[0m",
      "\u001b[0;31mKeyError\u001b[0m                                  Traceback (most recent call last)",
      "\u001b[0;32m<ipython-input-18-86700a1bd7d4>\u001b[0m in \u001b[0;36m<module>\u001b[0;34m\u001b[0m\n\u001b[1;32m      1\u001b[0m \u001b[0mdf\u001b[0m\u001b[0;34m[\u001b[0m\u001b[0;34m'CTUID'\u001b[0m\u001b[0;34m]\u001b[0m \u001b[0;34m=\u001b[0m \u001b[0;32mNone\u001b[0m\u001b[0;34m\u001b[0m\u001b[0;34m\u001b[0m\u001b[0m\n\u001b[1;32m      2\u001b[0m \u001b[0;32mfor\u001b[0m \u001b[0mk\u001b[0m\u001b[0;34m,\u001b[0m\u001b[0mv\u001b[0m \u001b[0;32min\u001b[0m \u001b[0mdf\u001b[0m\u001b[0;34m.\u001b[0m\u001b[0miterrows\u001b[0m\u001b[0;34m(\u001b[0m\u001b[0;34m)\u001b[0m\u001b[0;34m:\u001b[0m\u001b[0;34m\u001b[0m\u001b[0;34m\u001b[0m\u001b[0m\n\u001b[0;32m----> 3\u001b[0;31m     \u001b[0mdf\u001b[0m\u001b[0;34m.\u001b[0m\u001b[0mat\u001b[0m\u001b[0;34m[\u001b[0m\u001b[0mk\u001b[0m\u001b[0;34m,\u001b[0m\u001b[0;34m'CTUID'\u001b[0m\u001b[0;34m]\u001b[0m \u001b[0;34m=\u001b[0m \u001b[0mname_to_cma\u001b[0m\u001b[0;34m[\u001b[0m\u001b[0mv\u001b[0m\u001b[0;34m.\u001b[0m\u001b[0mLocation\u001b[0m\u001b[0;34m.\u001b[0m\u001b[0mlower\u001b[0m\u001b[0;34m(\u001b[0m\u001b[0;34m)\u001b[0m\u001b[0;34m]\u001b[0m\u001b[0;34m\u001b[0m\u001b[0;34m\u001b[0m\u001b[0m\n\u001b[0m",
      "\u001b[0;31mKeyError\u001b[0m: 'york mills station'"
     ]
    }
   ],
   "source": [
    "df['CTUID'] = None\n",
    "for k,v in df.iterrows():\n",
    "    df.at[k,'CTUID'] = name_to_cma[v.Location.lower()]\n"
   ]
  },
  {
   "cell_type": "code",
   "execution_count": 33,
   "id": "75fe2409-8727-403b-af51-09e8c86a0002",
   "metadata": {},
   "outputs": [
    {
     "data": {
      "text/html": [
       "<div>\n",
       "<style scoped>\n",
       "    .dataframe tbody tr th:only-of-type {\n",
       "        vertical-align: middle;\n",
       "    }\n",
       "\n",
       "    .dataframe tbody tr th {\n",
       "        vertical-align: top;\n",
       "    }\n",
       "\n",
       "    .dataframe thead th {\n",
       "        text-align: right;\n",
       "    }\n",
       "</style>\n",
       "<table border=\"1\" class=\"dataframe\">\n",
       "  <thead>\n",
       "    <tr style=\"text-align: right;\">\n",
       "      <th></th>\n",
       "      <th>CTUID</th>\n",
       "      <th>CTNAME</th>\n",
       "      <th>PRUID</th>\n",
       "      <th>PRNAME</th>\n",
       "      <th>CMAUID</th>\n",
       "      <th>CMAPUID</th>\n",
       "      <th>CMANAME</th>\n",
       "      <th>CMATYPE</th>\n",
       "      <th>geometry</th>\n",
       "    </tr>\n",
       "  </thead>\n",
       "  <tbody>\n",
       "    <tr>\n",
       "      <th>2</th>\n",
       "      <td>5350422.06</td>\n",
       "      <td>0422.06</td>\n",
       "      <td>35</td>\n",
       "      <td>Ontario</td>\n",
       "      <td>535</td>\n",
       "      <td>35535</td>\n",
       "      <td>Toronto</td>\n",
       "      <td>B</td>\n",
       "      <td>POLYGON ((7215728.211 952217.103, 7215620.917 ...</td>\n",
       "    </tr>\n",
       "    <tr>\n",
       "      <th>12</th>\n",
       "      <td>5350420.13</td>\n",
       "      <td>0420.13</td>\n",
       "      <td>35</td>\n",
       "      <td>Ontario</td>\n",
       "      <td>535</td>\n",
       "      <td>35535</td>\n",
       "      <td>Toronto</td>\n",
       "      <td>B</td>\n",
       "      <td>POLYGON ((7218613.794 949619.114, 7218679.703 ...</td>\n",
       "    </tr>\n",
       "    <tr>\n",
       "      <th>26</th>\n",
       "      <td>5350422.03</td>\n",
       "      <td>0422.03</td>\n",
       "      <td>35</td>\n",
       "      <td>Ontario</td>\n",
       "      <td>535</td>\n",
       "      <td>35535</td>\n",
       "      <td>Toronto</td>\n",
       "      <td>B</td>\n",
       "      <td>POLYGON ((7219855.811 954804.291, 7219916.443 ...</td>\n",
       "    </tr>\n",
       "    <tr>\n",
       "      <th>27</th>\n",
       "      <td>5350422.04</td>\n",
       "      <td>0422.04</td>\n",
       "      <td>35</td>\n",
       "      <td>Ontario</td>\n",
       "      <td>535</td>\n",
       "      <td>35535</td>\n",
       "      <td>Toronto</td>\n",
       "      <td>B</td>\n",
       "      <td>POLYGON ((7217954.586 954686.897, 7217969.586 ...</td>\n",
       "    </tr>\n",
       "    <tr>\n",
       "      <th>28</th>\n",
       "      <td>5350422.05</td>\n",
       "      <td>0422.05</td>\n",
       "      <td>35</td>\n",
       "      <td>Ontario</td>\n",
       "      <td>535</td>\n",
       "      <td>35535</td>\n",
       "      <td>Toronto</td>\n",
       "      <td>B</td>\n",
       "      <td>POLYGON ((7216885.403 954714.351, 7216948.280 ...</td>\n",
       "    </tr>\n",
       "    <tr>\n",
       "      <th>...</th>\n",
       "      <td>...</td>\n",
       "      <td>...</td>\n",
       "      <td>...</td>\n",
       "      <td>...</td>\n",
       "      <td>...</td>\n",
       "      <td>...</td>\n",
       "      <td>...</td>\n",
       "      <td>...</td>\n",
       "      <td>...</td>\n",
       "    </tr>\n",
       "    <tr>\n",
       "      <th>5707</th>\n",
       "      <td>5350225.01</td>\n",
       "      <td>0225.01</td>\n",
       "      <td>35</td>\n",
       "      <td>Ontario</td>\n",
       "      <td>535</td>\n",
       "      <td>35535</td>\n",
       "      <td>Toronto</td>\n",
       "      <td>B</td>\n",
       "      <td>POLYGON ((7212325.840 926182.157, 7212367.286 ...</td>\n",
       "    </tr>\n",
       "    <tr>\n",
       "      <th>5708</th>\n",
       "      <td>5350225.02</td>\n",
       "      <td>0225.02</td>\n",
       "      <td>35</td>\n",
       "      <td>Ontario</td>\n",
       "      <td>535</td>\n",
       "      <td>35535</td>\n",
       "      <td>Toronto</td>\n",
       "      <td>B</td>\n",
       "      <td>POLYGON ((7213463.914 925728.243, 7213472.340 ...</td>\n",
       "    </tr>\n",
       "    <tr>\n",
       "      <th>5709</th>\n",
       "      <td>5350260.04</td>\n",
       "      <td>0260.04</td>\n",
       "      <td>35</td>\n",
       "      <td>Ontario</td>\n",
       "      <td>535</td>\n",
       "      <td>35535</td>\n",
       "      <td>Toronto</td>\n",
       "      <td>B</td>\n",
       "      <td>POLYGON ((7227414.040 936384.911, 7227414.297 ...</td>\n",
       "    </tr>\n",
       "    <tr>\n",
       "      <th>5714</th>\n",
       "      <td>5350301.03</td>\n",
       "      <td>0301.03</td>\n",
       "      <td>35</td>\n",
       "      <td>Ontario</td>\n",
       "      <td>535</td>\n",
       "      <td>35535</td>\n",
       "      <td>Toronto</td>\n",
       "      <td>B</td>\n",
       "      <td>POLYGON ((7225377.617 942291.457, 7225365.574 ...</td>\n",
       "    </tr>\n",
       "    <tr>\n",
       "      <th>5715</th>\n",
       "      <td>5350301.04</td>\n",
       "      <td>0301.04</td>\n",
       "      <td>35</td>\n",
       "      <td>Ontario</td>\n",
       "      <td>535</td>\n",
       "      <td>35535</td>\n",
       "      <td>Toronto</td>\n",
       "      <td>B</td>\n",
       "      <td>POLYGON ((7227086.674 943108.391, 7227178.149 ...</td>\n",
       "    </tr>\n",
       "  </tbody>\n",
       "</table>\n",
       "<p>1151 rows × 9 columns</p>\n",
       "</div>"
      ],
      "text/plain": [
       "           CTUID   CTNAME PRUID   PRNAME CMAUID CMAPUID  CMANAME CMATYPE  \\\n",
       "2     5350422.06  0422.06    35  Ontario    535   35535  Toronto       B   \n",
       "12    5350420.13  0420.13    35  Ontario    535   35535  Toronto       B   \n",
       "26    5350422.03  0422.03    35  Ontario    535   35535  Toronto       B   \n",
       "27    5350422.04  0422.04    35  Ontario    535   35535  Toronto       B   \n",
       "28    5350422.05  0422.05    35  Ontario    535   35535  Toronto       B   \n",
       "...          ...      ...   ...      ...    ...     ...      ...     ...   \n",
       "5707  5350225.01  0225.01    35  Ontario    535   35535  Toronto       B   \n",
       "5708  5350225.02  0225.02    35  Ontario    535   35535  Toronto       B   \n",
       "5709  5350260.04  0260.04    35  Ontario    535   35535  Toronto       B   \n",
       "5714  5350301.03  0301.03    35  Ontario    535   35535  Toronto       B   \n",
       "5715  5350301.04  0301.04    35  Ontario    535   35535  Toronto       B   \n",
       "\n",
       "                                               geometry  \n",
       "2     POLYGON ((7215728.211 952217.103, 7215620.917 ...  \n",
       "12    POLYGON ((7218613.794 949619.114, 7218679.703 ...  \n",
       "26    POLYGON ((7219855.811 954804.291, 7219916.443 ...  \n",
       "27    POLYGON ((7217954.586 954686.897, 7217969.586 ...  \n",
       "28    POLYGON ((7216885.403 954714.351, 7216948.280 ...  \n",
       "...                                                 ...  \n",
       "5707  POLYGON ((7212325.840 926182.157, 7212367.286 ...  \n",
       "5708  POLYGON ((7213463.914 925728.243, 7213472.340 ...  \n",
       "5709  POLYGON ((7227414.040 936384.911, 7227414.297 ...  \n",
       "5714  POLYGON ((7225377.617 942291.457, 7225365.574 ...  \n",
       "5715  POLYGON ((7227086.674 943108.391, 7227178.149 ...  \n",
       "\n",
       "[1151 rows x 9 columns]"
      ]
     },
     "execution_count": 33,
     "metadata": {},
     "output_type": "execute_result"
    }
   ],
   "source": [
    "census_tracts"
   ]
  },
  {
   "cell_type": "code",
   "execution_count": null,
   "id": "f2880838-527f-4d46-a135-882fa4263c14",
   "metadata": {},
   "outputs": [],
   "source": []
  }
 ],
 "metadata": {
  "kernelspec": {
   "display_name": "Python 3",
   "language": "python",
   "name": "python3"
  },
  "language_info": {
   "codemirror_mode": {
    "name": "ipython",
    "version": 3
   },
   "file_extension": ".py",
   "mimetype": "text/x-python",
   "name": "python",
   "nbconvert_exporter": "python",
   "pygments_lexer": "ipython3",
   "version": "3.9.4"
  }
 },
 "nbformat": 4,
 "nbformat_minor": 5
}

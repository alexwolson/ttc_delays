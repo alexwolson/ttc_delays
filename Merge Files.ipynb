{
 "cells": [
  {
   "cell_type": "code",
   "execution_count": 1,
   "id": "20917139-e15d-42c4-baf6-92e3d622e6d4",
   "metadata": {},
   "outputs": [],
   "source": [
    "from pathlib import Path\n",
    "import pandas as pd\n",
    "from tqdm import tqdm"
   ]
  },
  {
   "cell_type": "code",
   "execution_count": 2,
   "id": "ce5b0ba4-7618-4946-b4aa-ae050410e206",
   "metadata": {},
   "outputs": [],
   "source": [
    "data_dir = Path('./data')"
   ]
  },
  {
   "cell_type": "code",
   "execution_count": 3,
   "id": "3b30ed5d-a605-4a39-b43a-525ecd4a6ad3",
   "metadata": {},
   "outputs": [],
   "source": [
    "df = pd.read_excel('data/subway-srt-logs-april-2020.xlsx')"
   ]
  },
  {
   "cell_type": "code",
   "execution_count": 4,
   "id": "9969611b-099b-411b-86ac-b7e2e10a745d",
   "metadata": {},
   "outputs": [
    {
     "name": "stderr",
     "output_type": "stream",
     "text": [
      " 95%|█████████▌| 62/65 [00:26<00:01,  2.30it/s]\n"
     ]
    }
   ],
   "source": [
    "for d in tqdm(data_dir.iterdir(), total=62):\n",
    "    if 'subway' in d.as_posix():\n",
    "        df = pd.concat([df,pd.read_excel(d)])"
   ]
  },
  {
   "cell_type": "code",
   "execution_count": 17,
   "id": "bf2e1538-6c8f-4cd6-abc9-dcb59166a1a4",
   "metadata": {},
   "outputs": [],
   "source": [
    "df = df.sort_values(['Date','Time']).reset_index(drop=True).drop(['Unnamed: 10','Unnamed: 11','Unnamed: 12'],axis=1)"
   ]
  },
  {
   "cell_type": "code",
   "execution_count": 19,
   "id": "d2b7cd72-3799-4a1b-879d-249fb46ebf37",
   "metadata": {},
   "outputs": [],
   "source": [
    "df.to_pickle('subway_delays.pickle')"
   ]
  },
  {
   "cell_type": "code",
   "execution_count": 20,
   "id": "a856b3d3-69a2-4c21-9d2a-727ee1e1dafc",
   "metadata": {},
   "outputs": [],
   "source": [
    "df = pd.read_excel('data/ttc-bus-delay-data-2014.xlsx')"
   ]
  },
  {
   "cell_type": "code",
   "execution_count": 21,
   "id": "47676626-e35d-438b-b199-025c5fc657c4",
   "metadata": {},
   "outputs": [
    {
     "name": "stderr",
     "output_type": "stream",
     "text": [
      "100%|██████████| 62/62 [00:09<00:00,  6.52it/s]\n"
     ]
    }
   ],
   "source": [
    "for d in tqdm(data_dir.iterdir(), total=62):\n",
    "    if 'bus' in d.as_posix():\n",
    "        df = pd.concat([df,pd.read_excel(d)])"
   ]
  },
  {
   "cell_type": "code",
   "execution_count": 26,
   "id": "cdb72959-c32d-4824-8800-1718f7166834",
   "metadata": {},
   "outputs": [],
   "source": [
    "df = df.reset_index(drop=True)"
   ]
  },
  {
   "cell_type": "code",
   "execution_count": 28,
   "id": "95349051-2eb1-47fa-bdbd-40c3bd5b03b6",
   "metadata": {},
   "outputs": [],
   "source": [
    "df.to_pickle('bus_delays.pickle')"
   ]
  },
  {
   "cell_type": "code",
   "execution_count": 30,
   "id": "4be17fd4-5c7c-4167-b89b-9652e63a589f",
   "metadata": {},
   "outputs": [],
   "source": [
    "df = pd.read_excel('data/ttc-streetcar-delay-data-2014.xlsx')"
   ]
  },
  {
   "cell_type": "code",
   "execution_count": 31,
   "id": "bb47f3cc-a0fc-4a69-92b3-6de095e9adc0",
   "metadata": {},
   "outputs": [
    {
     "name": "stderr",
     "output_type": "stream",
     "text": [
      "100%|██████████| 62/62 [00:02<00:00, 25.70it/s]\n"
     ]
    }
   ],
   "source": [
    "for d in tqdm(data_dir.iterdir(), total=62):\n",
    "    if 'streetcar' in d.as_posix():\n",
    "        df = pd.concat([df,pd.read_excel(d)])"
   ]
  },
  {
   "cell_type": "code",
   "execution_count": 33,
   "id": "a7eb3e3d-418d-4d0d-aeba-fbf137114388",
   "metadata": {},
   "outputs": [],
   "source": [
    "df = df.reset_index(drop=True)"
   ]
  },
  {
   "cell_type": "code",
   "execution_count": 34,
   "id": "b09d27a1-3a60-4613-b9d9-401dbc8a67b0",
   "metadata": {},
   "outputs": [],
   "source": [
    "df.to_pickle('streetcar_delays.pickle')"
   ]
  },
  {
   "cell_type": "code",
   "execution_count": null,
   "id": "5d021337-e4a7-4ab4-9039-89a63105b318",
   "metadata": {},
   "outputs": [],
   "source": []
  }
 ],
 "metadata": {
  "kernelspec": {
   "display_name": "Python 3",
   "language": "python",
   "name": "python3"
  },
  "language_info": {
   "codemirror_mode": {
    "name": "ipython",
    "version": 3
   },
   "file_extension": ".py",
   "mimetype": "text/x-python",
   "name": "python",
   "nbconvert_exporter": "python",
   "pygments_lexer": "ipython3",
   "version": "3.7.7"
  }
 },
 "nbformat": 4,
 "nbformat_minor": 5
}
